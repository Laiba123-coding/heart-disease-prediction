{
  "nbformat": 4,
  "nbformat_minor": 0,
  "metadata": {
    "colab": {
      "provenance": [],
      "authorship_tag": "ABX9TyMSp8xx2M002497es0/63Mz",
      "include_colab_link": true
    },
    "kernelspec": {
      "name": "python3",
      "display_name": "Python 3"
    },
    "language_info": {
      "name": "python"
    }
  },
  "cells": [
    {
      "cell_type": "markdown",
      "metadata": {
        "id": "view-in-github",
        "colab_type": "text"
      },
      "source": [
        "<a href=\"https://colab.research.google.com/github/Laiba123-coding/heart-disease-prediction/blob/main/task_3_.ipynb\" target=\"_parent\"><img src=\"https://colab.research.google.com/assets/colab-badge.svg\" alt=\"Open In Colab\"/></a>"
      ]
    },
    {
      "cell_type": "code",
      "source": [
        "!pip install kagglehub\n"
      ],
      "metadata": {
        "colab": {
          "base_uri": "https://localhost:8080/"
        },
        "id": "mxJJe17T_J1V",
        "outputId": "2aacfe56-314a-4632-bad4-cd66c7b41f96"
      },
      "execution_count": 2,
      "outputs": [
        {
          "output_type": "stream",
          "name": "stdout",
          "text": [
            "Requirement already satisfied: kagglehub in /usr/local/lib/python3.11/dist-packages (0.3.12)\n",
            "Requirement already satisfied: packaging in /usr/local/lib/python3.11/dist-packages (from kagglehub) (25.0)\n",
            "Requirement already satisfied: pyyaml in /usr/local/lib/python3.11/dist-packages (from kagglehub) (6.0.2)\n",
            "Requirement already satisfied: requests in /usr/local/lib/python3.11/dist-packages (from kagglehub) (2.32.3)\n",
            "Requirement already satisfied: tqdm in /usr/local/lib/python3.11/dist-packages (from kagglehub) (4.67.1)\n",
            "Requirement already satisfied: charset-normalizer<4,>=2 in /usr/local/lib/python3.11/dist-packages (from requests->kagglehub) (3.4.3)\n",
            "Requirement already satisfied: idna<4,>=2.5 in /usr/local/lib/python3.11/dist-packages (from requests->kagglehub) (3.10)\n",
            "Requirement already satisfied: urllib3<3,>=1.21.1 in /usr/local/lib/python3.11/dist-packages (from requests->kagglehub) (2.5.0)\n",
            "Requirement already satisfied: certifi>=2017.4.17 in /usr/local/lib/python3.11/dist-packages (from requests->kagglehub) (2025.8.3)\n"
          ]
        }
      ]
    },
    {
      "cell_type": "code",
      "source": [
        "import kagglehub\n",
        "\n",
        "# Download latest version of dataset\n",
        "path = kagglehub.dataset_download(\"ketangangal/heart-disease-dataset-uci\")\n",
        "\n",
        "print(\"Path to dataset files:\", path)\n"
      ],
      "metadata": {
        "colab": {
          "base_uri": "https://localhost:8080/"
        },
        "id": "3SI_ee_Z_LDs",
        "outputId": "aaa7fec2-a06e-4674-d96a-3985990cf3cf"
      },
      "execution_count": 3,
      "outputs": [
        {
          "output_type": "stream",
          "name": "stdout",
          "text": [
            "Path to dataset files: /kaggle/input/heart-disease-dataset-uci\n"
          ]
        }
      ]
    },
    {
      "cell_type": "code",
      "source": [
        "import os\n",
        "\n",
        "# List files in the downloaded directory\n",
        "print(os.listdir(path))"
      ],
      "metadata": {
        "colab": {
          "base_uri": "https://localhost:8080/"
        },
        "id": "Lvz2Z4ymAIFL",
        "outputId": "77ed28a4-50e0-4c9b-a5a8-af723feaf6f0"
      },
      "execution_count": 4,
      "outputs": [
        {
          "output_type": "stream",
          "name": "stdout",
          "text": [
            "['HeartDiseaseTrain-Test.csv']\n"
          ]
        }
      ]
    },
    {
      "cell_type": "code",
      "source": [
        "import pandas as pd\n",
        "import os\n",
        "\n",
        "# Replace with the actual CSV file name from the previous step\n",
        "csv_file = os.path.join(path, \"HeartDiseaseTrain-Test.csv\")\n",
        "df = pd.read_csv(csv_file)\n",
        "\n",
        "# View the first rows\n",
        "print(df.head())"
      ],
      "metadata": {
        "colab": {
          "base_uri": "https://localhost:8080/"
        },
        "id": "m50KjYTK_dTD",
        "outputId": "d8bf6f4c-8f9b-437c-ef4c-df3b7be0c6ab"
      },
      "execution_count": 5,
      "outputs": [
        {
          "output_type": "stream",
          "name": "stdout",
          "text": [
            "   age     sex chest_pain_type  resting_blood_pressure  cholestoral  \\\n",
            "0   52    Male  Typical angina                     125          212   \n",
            "1   53    Male  Typical angina                     140          203   \n",
            "2   70    Male  Typical angina                     145          174   \n",
            "3   61    Male  Typical angina                     148          203   \n",
            "4   62  Female  Typical angina                     138          294   \n",
            "\n",
            "      fasting_blood_sugar               rest_ecg  Max_heart_rate  \\\n",
            "0    Lower than 120 mg/ml  ST-T wave abnormality             168   \n",
            "1  Greater than 120 mg/ml                 Normal             155   \n",
            "2    Lower than 120 mg/ml  ST-T wave abnormality             125   \n",
            "3    Lower than 120 mg/ml  ST-T wave abnormality             161   \n",
            "4  Greater than 120 mg/ml  ST-T wave abnormality             106   \n",
            "\n",
            "  exercise_induced_angina  oldpeak        slope vessels_colored_by_flourosopy  \\\n",
            "0                      No      1.0  Downsloping                           Two   \n",
            "1                     Yes      3.1    Upsloping                          Zero   \n",
            "2                     Yes      2.6    Upsloping                          Zero   \n",
            "3                      No      0.0  Downsloping                           One   \n",
            "4                      No      1.9         Flat                         Three   \n",
            "\n",
            "         thalassemia  target  \n",
            "0  Reversable Defect       0  \n",
            "1  Reversable Defect       0  \n",
            "2  Reversable Defect       0  \n",
            "3  Reversable Defect       0  \n",
            "4       Fixed Defect       0  \n"
          ]
        }
      ]
    },
    {
      "cell_type": "code",
      "source": [
        "# 3) Quick EDA\n",
        "import matplotlib.pyplot as plt\n",
        "import seaborn as sns\n",
        "\n",
        "plt.figure(figsize=(5,4))\n",
        "sns.countplot(x=\"target\", data=df)\n",
        "plt.title(\"Class Balance (0 = no disease, 1 = disease)\")\n",
        "plt.show()"
      ],
      "metadata": {
        "colab": {
          "base_uri": "https://localhost:8080/",
          "height": 410
        },
        "id": "_wEcnZTHaFJd",
        "outputId": "ff00583f-6728-4e36-fa5c-95ea34a280ab"
      },
      "execution_count": 7,
      "outputs": [
        {
          "output_type": "display_data",
          "data": {
            "text/plain": [
              "<Figure size 500x400 with 1 Axes>"
            ],
            "image/png": "[encoded data removed]"
          },
          "metadata": {}
        }
      ]
    },
    {
      "cell_type": "code",
      "metadata": {
        "colab": {
          "base_uri": "https://localhost:8080/"
        },
        "id": "30f9f8fa",
        "outputId": "eda47c80-452e-4839-9f5c-8f4f04b7034b"
      },
      "source": [
        "print(df.shape)      # rows & columns\n",
        "print(df.info())     # data types & null values\n",
        "print(df.describe()) # statistics\n"
      ],
      "execution_count": 8,
      "outputs": [
        {
          "output_type": "stream",
          "name": "stdout",
          "text": [
            "(1025, 14)\n",
            "<class 'pandas.core.frame.DataFrame'>\n",
            "RangeIndex: 1025 entries, 0 to 1024\n",
            "Data columns (total 14 columns):\n",
            " #   Column                         Non-Null Count  Dtype  \n",
            "---  ------                         --------------  -----  \n",
            " 0   age                            1025 non-null   int64  \n",
            " 1   sex                            1025 non-null   object \n",
            " 2   chest_pain_type                1025 non-null   object \n",
            " 3   resting_blood_pressure         1025 non-null   int64  \n",
            " 4   cholestoral                    1025 non-null   int64  \n",
            " 5   fasting_blood_sugar            1025 non-null   object \n",
            " 6   rest_ecg                       1025 non-null   object \n",
            " 7   Max_heart_rate                 1025 non-null   int64  \n",
            " 8   exercise_induced_angina        1025 non-null   object \n",
            " 9   oldpeak                        1025 non-null   float64\n",
            " 10  slope                          1025 non-null   object \n",
            " 11  vessels_colored_by_flourosopy  1025 non-null   object \n",
            " 12  thalassemia                    1025 non-null   object \n",
            " 13  target                         1025 non-null   int64  \n",
            "dtypes: float64(1), int64(5), object(8)\n",
            "memory usage: 112.2+ KB\n",
            "None\n",
            "               age  resting_blood_pressure  cholestoral  Max_heart_rate  \\\n",
            "count  1025.000000             1025.000000   1025.00000     1025.000000   \n",
            "mean     54.434146              131.611707    246.00000      149.114146   \n",
            "std       9.072290               17.516718     51.59251       23.005724   \n",
            "min      29.000000               94.000000    126.00000       71.000000   \n",
            "25%      48.000000              120.000000    211.00000      132.000000   \n",
            "50%      56.000000              130.000000    240.00000      152.000000   \n",
            "75%      61.000000              140.000000    275.00000      166.000000   \n",
            "max      77.000000              200.000000    564.00000      202.000000   \n",
            "\n",
            "           oldpeak       target  \n",
            "count  1025.000000  1025.000000  \n",
            "mean      1.071512     0.513171  \n",
            "std       1.175053     0.500070  \n",
            "min       0.000000     0.000000  \n",
            "25%       0.000000     0.000000  \n",
            "50%       0.800000     1.000000  \n",
            "75%       1.800000     1.000000  \n",
            "max       6.200000     1.000000  \n"
          ]
        }
      ]
    },
    {
      "cell_type": "code",
      "source": [
        "# Handle missing values (if any)\n",
        "df = df.dropna()  # or fillna() depending on case\n"
      ],
      "metadata": {
        "id": "jTHSX_LbAVWh"
      },
      "execution_count": 9,
      "outputs": []
    },
    {
      "cell_type": "code",
      "metadata": {
        "colab": {
          "base_uri": "https://localhost:8080/"
        },
        "id": "66987ea4",
        "outputId": "02b164d0-095b-4fb4-f977-949f90b46989"
      },
      "source": [
        "from sklearn.model_selection import train_test_split\n",
        "\n",
        "# Define features (X) and target (y)\n",
        "# Assuming 'target' is the target variable and the rest are features\n",
        "X = df.drop('target', axis=1)\n",
        "y = df['target']\n",
        "\n",
        "# Split data into training and testing sets\n",
        "X_train, X_test, y_train, y_test = train_test_split(X, y, test_size=0.2, random_state=42)\n",
        "\n",
        "print(\"X_train shape:\", X_train.shape)\n",
        "print(\"X_test shape:\", X_test.shape)\n",
        "print(\"y_train shape:\", y_train.shape)\n",
        "print(\"y_test shape:\", y_test.shape)"
      ],
      "execution_count": 10,
      "outputs": [
        {
          "output_type": "stream",
          "name": "stdout",
          "text": [
            "X_train shape: (820, 13)\n",
            "X_test shape: (205, 13)\n",
            "y_train shape: (820,)\n",
            "y_test shape: (205,)\n"
          ]
        }
      ]
    },
    {
      "cell_type": "code",
      "metadata": {
        "colab": {
          "base_uri": "https://localhost:8080/"
        },
        "id": "69e24f3e",
        "outputId": "ccfe26c2-6426-4780-8b02-3016476ce124"
      },
      "source": [
        "from sklearn.preprocessing import OneHotEncoder\n",
        "from sklearn.compose import ColumnTransformer\n",
        "from sklearn.pipeline import Pipeline\n",
        "from sklearn.linear_model import LogisticRegression\n",
        "\n",
        "# Identify categorical columns\n",
        "categorical_features = X_train.select_dtypes(include=['object']).columns\n",
        "\n",
        "# Create a column transformer for one-hot encoding\n",
        "preprocessor = ColumnTransformer(\n",
        "    transformers=[\n",
        "        ('onehot', OneHotEncoder(handle_unknown='ignore'), categorical_features)\n",
        "    ],\n",
        "    remainder='passthrough' # Keep other columns (numerical)\n",
        ")\n",
        "\n",
        "# Create a pipeline with the preprocessor and the model\n",
        "model = Pipeline(steps=[('preprocessor', preprocessor),\n",
        "                        ('classifier', LogisticRegression(random_state=42))])\n",
        "\n",
        "# Train the model\n",
        "model.fit(X_train, y_train)\n",
        "\n",
        "print(\"Model training complete.\")"
      ],
      "execution_count": 12,
      "outputs": [
        {
          "output_type": "stream",
          "name": "stdout",
          "text": [
            "Model training complete.\n"
          ]
        },
        {
          "output_type": "stream",
          "name": "stderr",
          "text": [
            "/usr/local/lib/python3.11/dist-packages/sklearn/linear_model/_logistic.py:465: ConvergenceWarning: lbfgs failed to converge (status=1):\n",
            "STOP: TOTAL NO. OF ITERATIONS REACHED LIMIT.\n",
            "\n",
            "Increase the number of iterations (max_iter) or scale the data as shown in:\n",
            "    https://scikit-learn.org/stable/modules/preprocessing.html\n",
            "Please also refer to the documentation for alternative solver options:\n",
            "    https://scikit-learn.org/stable/modules/linear_model.html#logistic-regression\n",
            "  n_iter_i = _check_optimize_result(\n"
          ]
        }
      ]
    },
    {
      "cell_type": "code",
      "source": [
        "from sklearn.metrics import accuracy_score, confusion_matrix, roc_auc_score, roc_curve\n",
        "import matplotlib.pyplot as plt\n",
        "\n",
        "y_pred = model.predict(X_test)\n",
        "y_prob = model.predict_proba(X_test)[:, 1]\n",
        "\n",
        "print(\"Accuracy:\", accuracy_score(y_test, y_pred))\n",
        "print(\"ROC-AUC:\", roc_auc_score(y_test, y_prob))\n",
        "print(\"Confusion Matrix:\\n\", confusion_matrix(y_test, y_pred))\n",
        "\n",
        "# ROC Curve\n",
        "fpr, tpr, _ = roc_curve(y_test, y_prob)\n",
        "plt.plot(fpr, tpr, label=\"ROC Curve\")\n",
        "plt.plot([0,1], [0,1], '--', color='gray')\n",
        "plt.xlabel(\"False Positive Rate\")\n",
        "plt.ylabel(\"True Positive Rate\")\n",
        "plt.title(\"ROC Curve\")\n",
        "plt.legend()\n",
        "plt.show()\n"
      ],
      "metadata": {
        "id": "AyBSfPSnBOGw",
        "outputId": "c52fabbd-99f9-4846-c046-bde918e83df2",
        "colab": {
          "base_uri": "https://localhost:8080/",
          "height": 559
        }
      },
      "execution_count": 13,
      "outputs": [
        {
          "output_type": "stream",
          "name": "stdout",
          "text": [
            "Accuracy: 0.8\n",
            "ROC-AUC: 0.9006282124500286\n",
            "Confusion Matrix:\n",
            " [[76 26]\n",
            " [15 88]]\n"
          ]
        },
        {
          "output_type": "display_data",
          "data": {
            "text/plain": [
              "<Figure size 640x480 with 1 Axes>"
            ],
            "image/png": "[encoded data removed]"
          },
          "metadata": {}
        }
      ]
    }
  ]
}